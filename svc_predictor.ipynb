{
 "cells": [
  {
   "cell_type": "code",
   "execution_count": 16,
   "id": "3ce7122d-a019-42f8-9a5a-c54b3b03577f",
   "metadata": {},
   "outputs": [],
   "source": [
    "import pandas as pd"
   ]
  },
  {
   "cell_type": "code",
   "execution_count": null,
   "id": "8e2f329b-9fa2-4b4e-a54d-f3cbb8937b66",
   "metadata": {},
   "outputs": [],
   "source": []
  },
  {
   "cell_type": "code",
   "execution_count": 17,
   "id": "21a69cf2-0f2e-4074-80f6-571cb2dc30a8",
   "metadata": {},
   "outputs": [],
   "source": [
    "data_frame = pd.read_csv(\"dataset/SleepStudyDataForAnalysis.csv\", index_col = 0)"
   ]
  },
  {
   "cell_type": "code",
   "execution_count": null,
   "id": "0bc7684b-cfaa-4326-8283-05ee0e31b709",
   "metadata": {},
   "outputs": [],
   "source": []
  },
  {
   "cell_type": "code",
   "execution_count": 18,
   "id": "29c7f205-62f1-4167-891d-532e6991e13f",
   "metadata": {},
   "outputs": [],
   "source": [
    "data_frame.head()\n",
    "data_frame.fillna(0.0, inplace=True)"
   ]
  },
  {
   "cell_type": "code",
   "execution_count": null,
   "id": "d5465710-e400-49d7-894c-85808f2ac51a",
   "metadata": {},
   "outputs": [],
   "source": []
  },
  {
   "cell_type": "code",
   "execution_count": 19,
   "id": "21e10a8f-8951-4cbd-9218-90f69c1b23ac",
   "metadata": {},
   "outputs": [],
   "source": [
    "bool_series = pd.isnull(data_frame[\"Hours\"])"
   ]
  },
  {
   "cell_type": "code",
   "execution_count": null,
   "id": "1148c87c-7854-4098-96a9-20ac0b21f46c",
   "metadata": {},
   "outputs": [],
   "source": []
  },
  {
   "cell_type": "code",
   "execution_count": 20,
   "id": "d7683af6-9488-43e3-b06c-405fabaf2247",
   "metadata": {},
   "outputs": [
    {
     "data": {
      "text/html": [
       "<div>\n",
       "<style scoped>\n",
       "    .dataframe tbody tr th:only-of-type {\n",
       "        vertical-align: middle;\n",
       "    }\n",
       "\n",
       "    .dataframe tbody tr th {\n",
       "        vertical-align: top;\n",
       "    }\n",
       "\n",
       "    .dataframe thead th {\n",
       "        text-align: right;\n",
       "    }\n",
       "</style>\n",
       "<table border=\"1\" class=\"dataframe\">\n",
       "  <thead>\n",
       "    <tr style=\"text-align: right;\">\n",
       "      <th></th>\n",
       "      <th>Enough</th>\n",
       "      <th>Hours</th>\n",
       "      <th>PhoneReach</th>\n",
       "      <th>PhoneTime</th>\n",
       "      <th>Tired</th>\n",
       "      <th>Breakfast</th>\n",
       "    </tr>\n",
       "  </thead>\n",
       "  <tbody>\n",
       "  </tbody>\n",
       "</table>\n",
       "</div>"
      ],
      "text/plain": [
       "Empty DataFrame\n",
       "Columns: [Enough, Hours, PhoneReach, PhoneTime, Tired, Breakfast]\n",
       "Index: []"
      ]
     },
     "execution_count": 20,
     "metadata": {},
     "output_type": "execute_result"
    }
   ],
   "source": [
    "data_frame[bool_series]"
   ]
  },
  {
   "cell_type": "code",
   "execution_count": null,
   "id": "261c8cef-ce41-418a-a8c0-3c08c7f317af",
   "metadata": {},
   "outputs": [],
   "source": []
  },
  {
   "cell_type": "code",
   "execution_count": 21,
   "id": "2158a78c-b1a2-470a-a00a-336007fc8ff2",
   "metadata": {},
   "outputs": [
    {
     "data": {
      "text/html": [
       "<div>\n",
       "<style scoped>\n",
       "    .dataframe tbody tr th:only-of-type {\n",
       "        vertical-align: middle;\n",
       "    }\n",
       "\n",
       "    .dataframe tbody tr th {\n",
       "        vertical-align: top;\n",
       "    }\n",
       "\n",
       "    .dataframe thead th {\n",
       "        text-align: right;\n",
       "    }\n",
       "</style>\n",
       "<table border=\"1\" class=\"dataframe\">\n",
       "  <thead>\n",
       "    <tr style=\"text-align: right;\">\n",
       "      <th></th>\n",
       "      <th>Enough</th>\n",
       "      <th>Hours</th>\n",
       "      <th>PhoneReach</th>\n",
       "      <th>PhoneTime</th>\n",
       "      <th>Tired</th>\n",
       "      <th>Breakfast</th>\n",
       "    </tr>\n",
       "  </thead>\n",
       "  <tbody>\n",
       "    <tr>\n",
       "      <th>62</th>\n",
       "      <td>0</td>\n",
       "      <td>2.0</td>\n",
       "      <td>0</td>\n",
       "      <td>0</td>\n",
       "      <td>5</td>\n",
       "      <td>0</td>\n",
       "    </tr>\n",
       "    <tr>\n",
       "      <th>52</th>\n",
       "      <td>0</td>\n",
       "      <td>7.0</td>\n",
       "      <td>0</td>\n",
       "      <td>1</td>\n",
       "      <td>4</td>\n",
       "      <td>1</td>\n",
       "    </tr>\n",
       "    <tr>\n",
       "      <th>51</th>\n",
       "      <td>0</td>\n",
       "      <td>8.0</td>\n",
       "      <td>1</td>\n",
       "      <td>1</td>\n",
       "      <td>3</td>\n",
       "      <td>1</td>\n",
       "    </tr>\n",
       "    <tr>\n",
       "      <th>77</th>\n",
       "      <td>1</td>\n",
       "      <td>6.0</td>\n",
       "      <td>1</td>\n",
       "      <td>1</td>\n",
       "      <td>4</td>\n",
       "      <td>0</td>\n",
       "    </tr>\n",
       "    <tr>\n",
       "      <th>103</th>\n",
       "      <td>1</td>\n",
       "      <td>6.0</td>\n",
       "      <td>1</td>\n",
       "      <td>1</td>\n",
       "      <td>3</td>\n",
       "      <td>1</td>\n",
       "    </tr>\n",
       "    <tr>\n",
       "      <th>...</th>\n",
       "      <td>...</td>\n",
       "      <td>...</td>\n",
       "      <td>...</td>\n",
       "      <td>...</td>\n",
       "      <td>...</td>\n",
       "      <td>...</td>\n",
       "    </tr>\n",
       "    <tr>\n",
       "      <th>56</th>\n",
       "      <td>0</td>\n",
       "      <td>6.0</td>\n",
       "      <td>1</td>\n",
       "      <td>1</td>\n",
       "      <td>3</td>\n",
       "      <td>0</td>\n",
       "    </tr>\n",
       "    <tr>\n",
       "      <th>21</th>\n",
       "      <td>0</td>\n",
       "      <td>4.0</td>\n",
       "      <td>1</td>\n",
       "      <td>1</td>\n",
       "      <td>2</td>\n",
       "      <td>1</td>\n",
       "    </tr>\n",
       "    <tr>\n",
       "      <th>23</th>\n",
       "      <td>0</td>\n",
       "      <td>7.0</td>\n",
       "      <td>1</td>\n",
       "      <td>0</td>\n",
       "      <td>3</td>\n",
       "      <td>1</td>\n",
       "    </tr>\n",
       "    <tr>\n",
       "      <th>81</th>\n",
       "      <td>0</td>\n",
       "      <td>6.0</td>\n",
       "      <td>1</td>\n",
       "      <td>1</td>\n",
       "      <td>3</td>\n",
       "      <td>0</td>\n",
       "    </tr>\n",
       "    <tr>\n",
       "      <th>25</th>\n",
       "      <td>0</td>\n",
       "      <td>7.0</td>\n",
       "      <td>0</td>\n",
       "      <td>1</td>\n",
       "      <td>5</td>\n",
       "      <td>0</td>\n",
       "    </tr>\n",
       "  </tbody>\n",
       "</table>\n",
       "<p>104 rows × 6 columns</p>\n",
       "</div>"
      ],
      "text/plain": [
       "     Enough  Hours  PhoneReach  PhoneTime  Tired  Breakfast\n",
       "62        0    2.0           0          0      5          0\n",
       "52        0    7.0           0          1      4          1\n",
       "51        0    8.0           1          1      3          1\n",
       "77        1    6.0           1          1      4          0\n",
       "103       1    6.0           1          1      3          1\n",
       "..      ...    ...         ...        ...    ...        ...\n",
       "56        0    6.0           1          1      3          0\n",
       "21        0    4.0           1          1      2          1\n",
       "23        0    7.0           1          0      3          1\n",
       "81        0    6.0           1          1      3          0\n",
       "25        0    7.0           0          1      5          0\n",
       "\n",
       "[104 rows x 6 columns]"
      ]
     },
     "execution_count": 21,
     "metadata": {},
     "output_type": "execute_result"
    }
   ],
   "source": [
    "data_frame"
   ]
  },
  {
   "cell_type": "code",
   "execution_count": null,
   "id": "5963e2c4-e44f-4469-a3a0-c4f4b745a7fe",
   "metadata": {},
   "outputs": [],
   "source": []
  },
  {
   "cell_type": "code",
   "execution_count": 22,
   "id": "9766b759-a431-4e88-bcbd-1c653abc2131",
   "metadata": {},
   "outputs": [],
   "source": [
    "import sklearn\n",
    "from sklearn import svm, preprocessing"
   ]
  },
  {
   "cell_type": "code",
   "execution_count": null,
   "id": "77647523-c1ff-4557-a9e0-edfbb0958a90",
   "metadata": {},
   "outputs": [],
   "source": []
  },
  {
   "cell_type": "code",
   "execution_count": 23,
   "id": "fcc0d014-f7c2-4ff0-b40b-c1e9fbae9ba5",
   "metadata": {},
   "outputs": [],
   "source": [
    "Xs = data_frame.drop('Hours', axis = 1).values\n",
    "Ys = data_frame['Hours'].values"
   ]
  },
  {
   "cell_type": "code",
   "execution_count": null,
   "id": "c2bbc79f-f0c1-4c7f-b080-f63bc4943ff5",
   "metadata": {},
   "outputs": [],
   "source": []
  },
  {
   "cell_type": "code",
   "execution_count": 24,
   "id": "edea345c-c51f-435d-9634-277985ef990a",
   "metadata": {},
   "outputs": [],
   "source": [
    "test_size=50"
   ]
  },
  {
   "cell_type": "code",
   "execution_count": null,
   "id": "9069373b-697a-4616-aaf7-6fe53cd4a476",
   "metadata": {},
   "outputs": [],
   "source": []
  },
  {
   "cell_type": "code",
   "execution_count": 25,
   "id": "f532e323-fb97-4944-bb98-4bffe29f25b0",
   "metadata": {},
   "outputs": [],
   "source": [
    "Xs_train = Xs[:-test_size]\n",
    "Ys_train = Ys[:-test_size]\n",
    "\n",
    "Xs_test = Xs[-test_size:]\n",
    "Ys_test = Ys[-test_size:]"
   ]
  },
  {
   "cell_type": "code",
   "execution_count": null,
   "id": "3caf4652-2e49-43e3-ab8d-e6849304e6b5",
   "metadata": {},
   "outputs": [],
   "source": []
  },
  {
   "cell_type": "code",
   "execution_count": 26,
   "id": "a476e863-9672-4f4a-bcb9-3ac54cfc63d7",
   "metadata": {},
   "outputs": [],
   "source": [
    "classifier = svm.SVC ()"
   ]
  },
  {
   "cell_type": "code",
   "execution_count": null,
   "id": "20cb9905-9b7c-4c44-aa25-4acecf10d895",
   "metadata": {},
   "outputs": [],
   "source": []
  },
  {
   "cell_type": "code",
   "execution_count": 27,
   "id": "dfe22cdd-75e1-42ce-987f-4aef66167686",
   "metadata": {},
   "outputs": [
    {
     "data": {
      "text/plain": [
       "SVC()"
      ]
     },
     "execution_count": 27,
     "metadata": {},
     "output_type": "execute_result"
    }
   ],
   "source": [
    "classifier.fit(Xs_train, Ys_train)"
   ]
  },
  {
   "cell_type": "code",
   "execution_count": null,
   "id": "9a0507d5-42bc-464b-bfbb-06c0a779366c",
   "metadata": {},
   "outputs": [],
   "source": []
  },
  {
   "cell_type": "code",
   "execution_count": 28,
   "id": "236bf0f6-1341-4cf2-b917-f2e196dc7847",
   "metadata": {},
   "outputs": [
    {
     "data": {
      "text/plain": [
       "0.42"
      ]
     },
     "execution_count": 28,
     "metadata": {},
     "output_type": "execute_result"
    }
   ],
   "source": [
    "classifier.score(Xs_test, Ys_test)"
   ]
  },
  {
   "cell_type": "code",
   "execution_count": null,
   "id": "c78b1937-25db-4aef-947a-aae145cd4ff7",
   "metadata": {},
   "outputs": [],
   "source": []
  },
  {
   "cell_type": "code",
   "execution_count": 29,
   "id": "d1d35562-ac0c-42f1-a036-b9d84943d4cc",
   "metadata": {},
   "outputs": [
    {
     "name": "stdout",
     "output_type": "stream",
     "text": [
      "Model 7.0, Actual 6.0\n",
      "Model 7.0, Actual 7.0\n",
      "Model 7.0, Actual 9.0\n",
      "Model 6.0, Actual 7.0\n",
      "Model 7.0, Actual 8.0\n",
      "Model 6.0, Actual 6.0\n",
      "Model 7.0, Actual 7.0\n",
      "Model 7.0, Actual 6.0\n",
      "Model 7.0, Actual 7.0\n",
      "Model 7.0, Actual 4.0\n",
      "Model 7.0, Actual 8.0\n",
      "Model 7.0, Actual 9.0\n",
      "Model 7.0, Actual 6.0\n",
      "Model 7.0, Actual 6.0\n",
      "Model 7.0, Actual 7.0\n",
      "Model 6.0, Actual 5.0\n",
      "Model 7.0, Actual 8.0\n",
      "Model 7.0, Actual 9.0\n",
      "Model 7.0, Actual 5.0\n",
      "Model 6.0, Actual 6.0\n",
      "Model 6.0, Actual 5.0\n",
      "Model 7.0, Actual 7.0\n",
      "Model 7.0, Actual 5.0\n",
      "Model 7.0, Actual 6.0\n",
      "Model 7.0, Actual 7.0\n",
      "Model 7.0, Actual 8.0\n",
      "Model 7.0, Actual 7.0\n",
      "Model 7.0, Actual 7.0\n",
      "Model 7.0, Actual 6.0\n",
      "Model 7.0, Actual 8.0\n",
      "Model 7.0, Actual 7.0\n",
      "Model 7.0, Actual 7.0\n",
      "Model 7.0, Actual 4.0\n",
      "Model 7.0, Actual 7.0\n",
      "Model 7.0, Actual 7.0\n",
      "Model 7.0, Actual 6.0\n",
      "Model 7.0, Actual 7.0\n",
      "Model 7.0, Actual 8.0\n",
      "Model 7.0, Actual 5.0\n",
      "Model 7.0, Actual 9.0\n",
      "Model 7.0, Actual 7.0\n",
      "Model 7.0, Actual 5.0\n",
      "Model 7.0, Actual 2.0\n",
      "Model 7.0, Actual 7.0\n",
      "Model 7.0, Actual 9.0\n",
      "Model 6.0, Actual 6.0\n",
      "Model 7.0, Actual 4.0\n",
      "Model 7.0, Actual 7.0\n",
      "Model 6.0, Actual 6.0\n",
      "Model 7.0, Actual 7.0\n"
     ]
    }
   ],
   "source": [
    "for Xs_iterator, Ys_iterator in zip(Xs_test, Ys_test):\n",
    "    print(f\"Model {classifier.predict([Xs_iterator])[0]}, Actual {Ys_iterator}\")"
   ]
  },
  {
   "cell_type": "code",
   "execution_count": null,
   "id": "731c7af8-c17b-436f-b1f8-04f242584916",
   "metadata": {},
   "outputs": [],
   "source": []
  },
  {
   "cell_type": "code",
   "execution_count": 9,
   "id": "ca0964a3-9f91-446a-aa6a-c6dd4fc2ae6a",
   "metadata": {},
   "outputs": [],
   "source": []
  },
  {
   "cell_type": "code",
   "execution_count": null,
   "id": "ee4d28f5-c032-45c1-abe4-8f0b7f90bb59",
   "metadata": {},
   "outputs": [],
   "source": []
  },
  {
   "cell_type": "code",
   "execution_count": null,
   "id": "45b70fda-c104-49bf-91d6-ab6ea8dac552",
   "metadata": {},
   "outputs": [],
   "source": []
  },
  {
   "cell_type": "code",
   "execution_count": 10,
   "id": "ebc35bb2-1d40-4631-947e-164fce5921b6",
   "metadata": {},
   "outputs": [],
   "source": []
  },
  {
   "cell_type": "code",
   "execution_count": null,
   "id": "b0dfbd00-2c47-4bc4-9ad7-815280d7e5e2",
   "metadata": {},
   "outputs": [],
   "source": []
  },
  {
   "cell_type": "code",
   "execution_count": 11,
   "id": "749e0719-d3a8-4ab5-b31f-f8f3805f17e1",
   "metadata": {},
   "outputs": [],
   "source": []
  },
  {
   "cell_type": "code",
   "execution_count": null,
   "id": "feb52d5d-8095-4832-a86f-30719b2d6ac5",
   "metadata": {},
   "outputs": [],
   "source": []
  },
  {
   "cell_type": "code",
   "execution_count": 12,
   "id": "db9a0b94-5bb7-4011-ba33-4663b573d8e4",
   "metadata": {},
   "outputs": [],
   "source": []
  },
  {
   "cell_type": "code",
   "execution_count": null,
   "id": "aac43828-5bf7-4ddc-a376-fee192b9b40e",
   "metadata": {},
   "outputs": [],
   "source": []
  },
  {
   "cell_type": "code",
   "execution_count": 13,
   "id": "c27392dc-9de4-4068-a134-78d01be13d21",
   "metadata": {},
   "outputs": [
    {
     "data": {
      "text/plain": [
       "SVC()"
      ]
     },
     "execution_count": 13,
     "metadata": {},
     "output_type": "execute_result"
    }
   ],
   "source": []
  },
  {
   "cell_type": "code",
   "execution_count": null,
   "id": "e664d10d-47ab-4b35-9fc4-312d887cef70",
   "metadata": {},
   "outputs": [],
   "source": []
  },
  {
   "cell_type": "code",
   "execution_count": 14,
   "id": "096a9177-ba80-43ae-981a-ae002dd3ff14",
   "metadata": {},
   "outputs": [
    {
     "data": {
      "text/plain": [
       "0.42"
      ]
     },
     "execution_count": 14,
     "metadata": {},
     "output_type": "execute_result"
    }
   ],
   "source": []
  },
  {
   "cell_type": "code",
   "execution_count": null,
   "id": "3f9eb140-da0b-4e26-ace7-9e4b3f00a3b9",
   "metadata": {},
   "outputs": [],
   "source": []
  },
  {
   "cell_type": "code",
   "execution_count": 15,
   "id": "58acaa04-5df3-46e5-8699-0d3790e8162d",
   "metadata": {},
   "outputs": [
    {
     "name": "stdout",
     "output_type": "stream",
     "text": [
      "Model 7.0, Actual 6.0\n",
      "Model 7.0, Actual 7.0\n",
      "Model 7.0, Actual 9.0\n",
      "Model 6.0, Actual 7.0\n",
      "Model 7.0, Actual 8.0\n",
      "Model 6.0, Actual 6.0\n",
      "Model 7.0, Actual 7.0\n",
      "Model 7.0, Actual 6.0\n",
      "Model 7.0, Actual 7.0\n",
      "Model 7.0, Actual 4.0\n",
      "Model 7.0, Actual 8.0\n",
      "Model 7.0, Actual 9.0\n",
      "Model 7.0, Actual 6.0\n",
      "Model 7.0, Actual 6.0\n",
      "Model 7.0, Actual 7.0\n",
      "Model 6.0, Actual 5.0\n",
      "Model 7.0, Actual 8.0\n",
      "Model 7.0, Actual 9.0\n",
      "Model 7.0, Actual 5.0\n",
      "Model 6.0, Actual 6.0\n",
      "Model 6.0, Actual 5.0\n",
      "Model 7.0, Actual 7.0\n",
      "Model 7.0, Actual 5.0\n",
      "Model 7.0, Actual 6.0\n",
      "Model 7.0, Actual 7.0\n",
      "Model 7.0, Actual 8.0\n",
      "Model 7.0, Actual 7.0\n",
      "Model 7.0, Actual 7.0\n",
      "Model 7.0, Actual 6.0\n",
      "Model 7.0, Actual 8.0\n",
      "Model 7.0, Actual 7.0\n",
      "Model 7.0, Actual 7.0\n",
      "Model 7.0, Actual 4.0\n",
      "Model 7.0, Actual 7.0\n",
      "Model 7.0, Actual 7.0\n",
      "Model 7.0, Actual 6.0\n",
      "Model 7.0, Actual 7.0\n",
      "Model 7.0, Actual 8.0\n",
      "Model 7.0, Actual 5.0\n",
      "Model 7.0, Actual 9.0\n",
      "Model 7.0, Actual 7.0\n",
      "Model 7.0, Actual 5.0\n",
      "Model 7.0, Actual 2.0\n",
      "Model 7.0, Actual 7.0\n",
      "Model 7.0, Actual 9.0\n",
      "Model 6.0, Actual 6.0\n",
      "Model 7.0, Actual 4.0\n",
      "Model 7.0, Actual 7.0\n",
      "Model 6.0, Actual 6.0\n",
      "Model 7.0, Actual 7.0\n"
     ]
    }
   ],
   "source": []
  },
  {
   "cell_type": "code",
   "execution_count": null,
   "id": "7fd267c5-24ce-40ff-b050-0dec43ad1d8e",
   "metadata": {},
   "outputs": [],
   "source": []
  },
  {
   "cell_type": "code",
   "execution_count": null,
   "id": "64f292c3-237f-43f9-8c57-a454c9f05f0d",
   "metadata": {},
   "outputs": [],
   "source": []
  },
  {
   "cell_type": "code",
   "execution_count": null,
   "id": "a0ebd76b-c32c-4ad4-aee3-2f816be74e07",
   "metadata": {},
   "outputs": [],
   "source": []
  },
  {
   "cell_type": "code",
   "execution_count": null,
   "id": "698c5cac-65d8-4a58-8d8a-c74a367a8cbe",
   "metadata": {},
   "outputs": [],
   "source": []
  },
  {
   "cell_type": "code",
   "execution_count": null,
   "id": "c12418e7-0983-4322-9657-13eaa570ed90",
   "metadata": {},
   "outputs": [],
   "source": []
  },
  {
   "cell_type": "code",
   "execution_count": null,
   "id": "1d2b6825-8901-4920-9df5-137aa4e5703c",
   "metadata": {},
   "outputs": [],
   "source": []
  },
  {
   "cell_type": "code",
   "execution_count": null,
   "id": "4453115d-146e-4977-adb4-6d25e0285f49",
   "metadata": {},
   "outputs": [],
   "source": []
  },
  {
   "cell_type": "code",
   "execution_count": null,
   "id": "46ed4c6a-8725-4a10-aeef-a72dd76b3149",
   "metadata": {},
   "outputs": [],
   "source": []
  },
  {
   "cell_type": "code",
   "execution_count": null,
   "id": "3ca5b425-9bb9-49a1-8f13-e48c5a18c3ad",
   "metadata": {},
   "outputs": [],
   "source": []
  },
  {
   "cell_type": "code",
   "execution_count": 52,
   "id": "0a3fdb06-c019-4dda-a9ef-5e7af26912d1",
   "metadata": {},
   "outputs": [],
   "source": []
  },
  {
   "cell_type": "code",
   "execution_count": null,
   "id": "1d267ee5-b768-41f3-916b-7909763cb9c4",
   "metadata": {},
   "outputs": [],
   "source": []
  },
  {
   "cell_type": "code",
   "execution_count": 53,
   "id": "964b29f2-0146-4c78-b292-82fc43f748c3",
   "metadata": {},
   "outputs": [],
   "source": []
  },
  {
   "cell_type": "code",
   "execution_count": null,
   "id": "a289d311-1a67-4696-9fec-679f6c7cd4d2",
   "metadata": {},
   "outputs": [],
   "source": []
  },
  {
   "cell_type": "code",
   "execution_count": null,
   "id": "4c71f096-12df-44d9-a75e-ec3b6e82b514",
   "metadata": {},
   "outputs": [],
   "source": []
  },
  {
   "cell_type": "code",
   "execution_count": null,
   "id": "c9ff657b-3c1f-4d8c-8b8b-d68456c25621",
   "metadata": {},
   "outputs": [],
   "source": []
  },
  {
   "cell_type": "code",
   "execution_count": null,
   "id": "faea29f7-6e6c-4b7e-8379-c6cfd449600a",
   "metadata": {},
   "outputs": [],
   "source": []
  },
  {
   "cell_type": "code",
   "execution_count": null,
   "id": "66a6ea18-e20b-4488-b92b-c60d3bcdf1a1",
   "metadata": {},
   "outputs": [],
   "source": []
  },
  {
   "cell_type": "code",
   "execution_count": null,
   "id": "8c8d330d-3d65-4478-aaa2-3d3713ecf6ee",
   "metadata": {},
   "outputs": [],
   "source": []
  },
  {
   "cell_type": "code",
   "execution_count": null,
   "id": "831d2b1c-6d0e-4e45-843a-095f260d6bed",
   "metadata": {},
   "outputs": [],
   "source": []
  },
  {
   "cell_type": "code",
   "execution_count": null,
   "id": "57a0fbc0-df84-4826-afad-4fb67bde7b0d",
   "metadata": {},
   "outputs": [],
   "source": []
  },
  {
   "cell_type": "code",
   "execution_count": null,
   "id": "5ab9d02f-3061-493c-b9fc-8ec5111fb107",
   "metadata": {},
   "outputs": [],
   "source": []
  },
  {
   "cell_type": "code",
   "execution_count": null,
   "id": "c8b4ecfb-b67e-4ba4-b78a-fca787317ecf",
   "metadata": {},
   "outputs": [],
   "source": []
  },
  {
   "cell_type": "code",
   "execution_count": null,
   "id": "aa978ddc-37ab-4601-893f-49b868163ba4",
   "metadata": {},
   "outputs": [],
   "source": []
  },
  {
   "cell_type": "code",
   "execution_count": null,
   "id": "66d64a87-3a63-4a69-8837-01331ea36b63",
   "metadata": {},
   "outputs": [],
   "source": []
  },
  {
   "cell_type": "code",
   "execution_count": null,
   "id": "c0f26b80-acbd-472d-a17b-959577453513",
   "metadata": {},
   "outputs": [],
   "source": []
  },
  {
   "cell_type": "code",
   "execution_count": null,
   "id": "2256aea2-8c1a-443e-ad68-f7b417eabfc3",
   "metadata": {},
   "outputs": [],
   "source": []
  },
  {
   "cell_type": "code",
   "execution_count": null,
   "id": "124f5427-551a-4178-9e29-cc7712097ca4",
   "metadata": {},
   "outputs": [],
   "source": []
  },
  {
   "cell_type": "code",
   "execution_count": null,
   "id": "3e8261fb-f443-4a3a-8b84-3682487e6212",
   "metadata": {},
   "outputs": [],
   "source": []
  },
  {
   "cell_type": "code",
   "execution_count": null,
   "id": "f602cc95-3d55-48ad-a971-92a46bc6cf9e",
   "metadata": {},
   "outputs": [],
   "source": []
  },
  {
   "cell_type": "code",
   "execution_count": null,
   "id": "c9e8ddf8-ad1e-481b-aefd-50e300be764e",
   "metadata": {},
   "outputs": [],
   "source": []
  },
  {
   "cell_type": "code",
   "execution_count": null,
   "id": "45f682e9-2ac6-4b9d-89db-dc1756bf1758",
   "metadata": {},
   "outputs": [],
   "source": []
  },
  {
   "cell_type": "code",
   "execution_count": null,
   "id": "f91e90d8-c879-4943-84e4-43c792ac42f6",
   "metadata": {},
   "outputs": [],
   "source": []
  },
  {
   "cell_type": "code",
   "execution_count": null,
   "id": "2f55f156-afe5-4314-8480-e804c519693e",
   "metadata": {},
   "outputs": [],
   "source": []
  },
  {
   "cell_type": "code",
   "execution_count": null,
   "id": "d81a59e0-98a8-4ee0-b714-5d053f0e0415",
   "metadata": {},
   "outputs": [],
   "source": []
  },
  {
   "cell_type": "code",
   "execution_count": null,
   "id": "67220d0d-2d3d-4d45-aecd-e0d91923a7bc",
   "metadata": {},
   "outputs": [],
   "source": []
  },
  {
   "cell_type": "code",
   "execution_count": null,
   "id": "8d8f6207-dbda-4920-95d2-4bb4cefb041e",
   "metadata": {},
   "outputs": [],
   "source": []
  },
  {
   "cell_type": "code",
   "execution_count": null,
   "id": "2708b5c3-8750-40a0-af22-65163a6a5d74",
   "metadata": {},
   "outputs": [],
   "source": []
  },
  {
   "cell_type": "code",
   "execution_count": null,
   "id": "dc11f766-6620-4626-a30c-e1ffe74733f2",
   "metadata": {},
   "outputs": [],
   "source": []
  },
  {
   "cell_type": "code",
   "execution_count": null,
   "id": "ef9e8162-d360-49fd-99e4-4231e7abc1fb",
   "metadata": {},
   "outputs": [],
   "source": []
  },
  {
   "cell_type": "code",
   "execution_count": 28,
   "id": "e157a2c1-5e6d-4761-8a2a-a75409a6b2c5",
   "metadata": {},
   "outputs": [],
   "source": [
    "\n"
   ]
  },
  {
   "cell_type": "code",
   "execution_count": null,
   "id": "11fe6322-f848-4f9a-8011-44ea0fd32e76",
   "metadata": {},
   "outputs": [],
   "source": []
  },
  {
   "cell_type": "code",
   "execution_count": null,
   "id": "4ef8490d-c7e1-45ef-b4f5-c5a0270680ad",
   "metadata": {},
   "outputs": [],
   "source": []
  },
  {
   "cell_type": "code",
   "execution_count": null,
   "id": "30827a28-6e9a-4927-9de5-6607fc759c19",
   "metadata": {},
   "outputs": [],
   "source": []
  },
  {
   "cell_type": "code",
   "execution_count": null,
   "id": "4392e502-62ad-457a-ad79-167722695e1f",
   "metadata": {},
   "outputs": [],
   "source": []
  },
  {
   "cell_type": "code",
   "execution_count": null,
   "id": "bfa44279-14c4-42d0-9d35-e0919236fc5e",
   "metadata": {},
   "outputs": [],
   "source": []
  },
  {
   "cell_type": "code",
   "execution_count": null,
   "id": "b5ceeb8c-de5c-413d-aaf8-fc0e7198e957",
   "metadata": {},
   "outputs": [],
   "source": []
  },
  {
   "cell_type": "code",
   "execution_count": null,
   "id": "ad12b599-208a-47a5-9f05-89b846861b66",
   "metadata": {},
   "outputs": [],
   "source": []
  },
  {
   "cell_type": "code",
   "execution_count": 17,
   "id": "4310bed0-9b7a-4848-9bf8-a71500d3dc76",
   "metadata": {},
   "outputs": [],
   "source": []
  },
  {
   "cell_type": "code",
   "execution_count": null,
   "id": "668d2f3d-9f4f-4208-9cb2-578bb7a634d7",
   "metadata": {},
   "outputs": [],
   "source": []
  },
  {
   "cell_type": "code",
   "execution_count": null,
   "id": "c799e67e-0429-4b19-b90a-b12346ae1e6c",
   "metadata": {},
   "outputs": [],
   "source": []
  },
  {
   "cell_type": "code",
   "execution_count": null,
   "id": "fa292981-8cad-4f40-a822-7a2974b0f440",
   "metadata": {},
   "outputs": [],
   "source": []
  },
  {
   "cell_type": "code",
   "execution_count": null,
   "id": "fc019365-284c-417f-a664-72a0bc594dc5",
   "metadata": {},
   "outputs": [],
   "source": []
  },
  {
   "cell_type": "code",
   "execution_count": null,
   "id": "745f8188-e158-44f5-b650-b08b8c573806",
   "metadata": {},
   "outputs": [],
   "source": []
  },
  {
   "cell_type": "code",
   "execution_count": null,
   "id": "9d601a6b-d3bc-4691-946c-00c57bf2e284",
   "metadata": {},
   "outputs": [],
   "source": []
  },
  {
   "cell_type": "code",
   "execution_count": null,
   "id": "773eea89-36d1-4987-bd99-dd38b2321fbb",
   "metadata": {},
   "outputs": [],
   "source": []
  },
  {
   "cell_type": "code",
   "execution_count": null,
   "id": "51b3fba2-6222-4e90-8bec-202f7a71c374",
   "metadata": {},
   "outputs": [],
   "source": []
  },
  {
   "cell_type": "code",
   "execution_count": null,
   "id": "dd01e7f4-3bf2-42d6-ad8c-1346baf09b10",
   "metadata": {},
   "outputs": [],
   "source": []
  },
  {
   "cell_type": "code",
   "execution_count": null,
   "id": "8fdaf83b-e6e3-495b-afd3-69b927e0b595",
   "metadata": {},
   "outputs": [],
   "source": []
  },
  {
   "cell_type": "code",
   "execution_count": null,
   "id": "acef37aa-e090-43ca-940a-6ef6815d30b7",
   "metadata": {},
   "outputs": [],
   "source": []
  },
  {
   "cell_type": "code",
   "execution_count": null,
   "id": "173fd34b-cfd5-48f0-8f64-58daf032a588",
   "metadata": {},
   "outputs": [],
   "source": []
  },
  {
   "cell_type": "code",
   "execution_count": null,
   "id": "e8e57548-0a4a-48a0-a2e6-0c523f52f526",
   "metadata": {},
   "outputs": [],
   "source": []
  },
  {
   "cell_type": "code",
   "execution_count": null,
   "id": "edf41d81-7d94-430b-9348-96e2f9f65d84",
   "metadata": {},
   "outputs": [],
   "source": []
  },
  {
   "cell_type": "code",
   "execution_count": null,
   "id": "8a89437a-0917-448b-b272-c8f53429f1f7",
   "metadata": {},
   "outputs": [],
   "source": []
  },
  {
   "cell_type": "code",
   "execution_count": null,
   "id": "17727065-4138-4fe2-9459-2ecf89292648",
   "metadata": {},
   "outputs": [],
   "source": []
  }
 ],
 "metadata": {
  "kernelspec": {
   "display_name": "Python 3",
   "language": "python",
   "name": "python3"
  },
  "language_info": {
   "codemirror_mode": {
    "name": "ipython",
    "version": 3
   },
   "file_extension": ".py",
   "mimetype": "text/x-python",
   "name": "python",
   "nbconvert_exporter": "python",
   "pygments_lexer": "ipython3",
   "version": "3.9.2"
  }
 },
 "nbformat": 4,
 "nbformat_minor": 5
}
